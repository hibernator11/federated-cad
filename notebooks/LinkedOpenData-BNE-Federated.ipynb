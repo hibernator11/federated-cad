{
 "cells": [
  {
   "cell_type": "markdown",
   "id": "1ac79ed6",
   "metadata": {},
   "source": [
    "The <a href=\"https://data.cervantesvirtual.com\">Biblioteca Virtual Miguel de Cervantes</a> published its catalogue as Linked Open data using as main vocabulary <a href=\"http://www.rdaregistry.info/\">Resource, Description and Access</a>.\n",
    "\n",
    "This example shows how to use <a href=\"https://www.w3.org/TR/sparql11-query/\">SPARQL</a> as a query language in Linked Open Data repositories."
   ]
  },
  {
   "cell_type": "markdown",
   "id": "de0c70f6-d6d7-4cb7-a96a-f1e6c763912a",
   "metadata": {},
   "source": [
    "### First of all, we init the SPARQLWrapper service with the SPARQL endpoint"
   ]
  },
  {
   "cell_type": "code",
   "execution_count": 1,
   "id": "24917a4f-fabd-4146-92ac-9b0d8c5ab87d",
   "metadata": {},
   "outputs": [],
   "source": [
    "from SPARQLWrapper import SPARQLWrapper, JSON\n",
    "\n",
    "sparql = SPARQLWrapper(\n",
    "    \"https://query.wikidata.org/sparql\"\n",
    ")\n",
    "sparql.setReturnFormat(JSON)"
   ]
  },
  {
   "cell_type": "markdown",
   "id": "117d62fb",
   "metadata": {},
   "source": [
    "### Let's write our first SPARQL sentence\n",
    "\n",
    "We could be interested in the classes used in the repository"
   ]
  },
  {
   "cell_type": "code",
   "execution_count": 13,
   "id": "6f87bd19-45ae-428f-a378-6c13ce4a225e",
   "metadata": {},
   "outputs": [],
   "source": [
    "sparql.setQuery(\"\"\"\n",
    "PREFIX bne-def: <https://datos.bne.es/def/>\n",
    "PREFIX dcterms: <http://purl.org/dc/terms/>\n",
    "\n",
    "SELECT ?author ?work ?workLabel ?edition ?placeOfProduction ?yearOfPublication ?langCode\n",
    "WHERE {\n",
    " wd:Q2085725 wdt:P950 ?id .\n",
    " wd:Q2085725 rdfs:label ?author.  FILTER(LANG(?author) = \"en\").            \n",
    " BIND(uri(concat(\"https://datos.bne.es/resource/\", ?id)) as ?bneID)\n",
    " SERVICE <http://datos.bne.es/sparql> {\n",
    "  ?bneID bne-def:OP5001 ?work .\n",
    "  ?work rdfs:label ?workLabel .   \n",
    "  OPTIONAL {?work bne-def:OP1002 ?m . ?m bne-def:OP2001 ?edition . ?edition bne-def:P3003 ?placeOfProduction}\n",
    "  OPTIONAL {?work bne-def:OP1002 ?m . ?m bne-def:OP2001 ?edition . ?edition bne-def:P3006 ?yearOfPublication}\n",
    "  OPTIONAL {?work bne-def:OP1002 ?m . ?m bne-def:OP2001 ?edition . ?edition dcterms:language ?langCode}\n",
    " }\n",
    "}\n",
    "LIMIT 100\n",
    "\"\"\"\n",
    ")"
   ]
  },
  {
   "cell_type": "markdown",
   "id": "02c29edf-4d00-457c-9430-a0b19bd3bda3",
   "metadata": {},
   "source": [
    "### Now we retrieve the results"
   ]
  },
  {
   "cell_type": "code",
   "execution_count": 20,
   "id": "114e5842-7688-40d2-8270-0c46a42be523",
   "metadata": {},
   "outputs": [
    {
     "name": "stdout",
     "output_type": "stream",
     "text": [
      "Author:  Jorge Juan y Santacilia  Work:  https://datos.bne.es/resource/XX3280526  Title:  Relación histórica del viaje a la América Meridional  placeOfProduction:  London  Year publication:  1807\n",
      "Author:  Jorge Juan y Santacilia  Work:  https://datos.bne.es/resource/XX3280526  Title:  Relación histórica del viaje a la América Meridional  placeOfProduction:  London  Year publication:  1760\n",
      "Author:  Jorge Juan y Santacilia  Work:  https://datos.bne.es/resource/XX3280526  Title:  Relación histórica del viaje a la América Meridional  placeOfProduction:  London  Year publication:  1806]\n",
      "Author:  Jorge Juan y Santacilia  Work:  https://datos.bne.es/resource/XX2035522  Title:  Noticias secretas de América  placeOfProduction:  Madrid  Year publication:  D.L. 1982\n",
      "Author:  Jorge Juan y Santacilia  Work:  https://datos.bne.es/resource/XX3280515  Title:  Compendio de navegacion para el uso de los caballeros guardias-marinas...  placeOfProduction:  [Boadilla del Monte]  Year publication:  D.L. 2012\n",
      "Author:  Jorge Juan y Santacilia  Work:  https://datos.bne.es/resource/XX3280526  Title:  Relación histórica del viaje a la América Meridional  placeOfProduction:  Valladolid  Year publication:  2013\n",
      "Author:  Jorge Juan y Santacilia  Work:  https://datos.bne.es/resource/XX3280515  Title:  Compendio de navegacion para el uso de los caballeros guardias-marinas...  placeOfProduction:  [Valencia]  Year publication:  D.L. 1996\n",
      "Author:  Jorge Juan y Santacilia  Work:  https://datos.bne.es/resource/XX3280526  Title:  Relación histórica del viaje a la América Meridional  placeOfProduction:  Te Goes  Year publication:  1771-1772\n",
      "Author:  Jorge Juan y Santacilia  Work:  https://datos.bne.es/resource/XX3280526  Title:  Relación histórica del viaje a la América Meridional  placeOfProduction:  Te Goes  Year publication:  1771-1772\n",
      "Author:  Jorge Juan y Santacilia  Work:  https://datos.bne.es/resource/XX3280527  Title:  Dissertation historique et géographique sur le meridien de démarcation entre les domaines d'Espagne et de Portugal  placeOfProduction:  Paris  Year publication:  1776\n",
      "Author:  Jorge Juan y Santacilia  Work:  https://datos.bne.es/resource/XX3280521  Title:  Examen marítimo teórico-práctico  placeOfProduction:  A Nantes  Year publication:  1783\n",
      "Author:  Jorge Juan y Santacilia  Work:  https://datos.bne.es/resource/XX2035522  Title:  Noticias secretas de América  placeOfProduction:  Madrid  Year publication:  D.L. 1991\n",
      "Author:  Jorge Juan y Santacilia  Work:  https://datos.bne.es/resource/XX3280515  Title:  Compendio de navegacion para el uso de los caballeros guardias-marinas...  placeOfProduction:  En Cadiz  Year publication:  1757\n",
      "Author:  Jorge Juan y Santacilia  Work:  https://datos.bne.es/resource/XX3280518  Title:  Estado de la Astronomia en Europa  placeOfProduction:  En Madrid  Year publication:  1774\n",
      "Author:  Jorge Juan y Santacilia  Work:  https://datos.bne.es/resource/XX2573528  Title:  Examen marítimo  placeOfProduction:  Madrid  Year publication:  1968\n",
      "Author:  Jorge Juan y Santacilia  Work:  https://datos.bne.es/resource/XX2573529  Title:  Jorge Juan en la Corte de Marruecos  placeOfProduction:  [Madrid  Year publication:  1941]\n",
      "Author:  Jorge Juan y Santacilia  Work:  https://datos.bne.es/resource/XX2035522  Title:  Noticias secretas de América  placeOfProduction:  Madrid  Year publication:  1918\n",
      "Author:  Jorge Juan y Santacilia  Work:  https://datos.bne.es/resource/XX3280526  Title:  Relación histórica del viaje a la América Meridional  placeOfProduction:  Madrid  Year publication:  1978\n",
      "Author:  Jorge Juan y Santacilia  Work:  https://datos.bne.es/resource/XX3280526  Title:  Relación histórica del viaje a la América Meridional  placeOfProduction:  Madrid  Year publication:  1990\n",
      "Author:  Jorge Juan y Santacilia  Work:  https://datos.bne.es/resource/XX3280526  Title:  Relación histórica del viaje a la América Meridional  placeOfProduction:  Tempe (Arizona)  Year publication:  1975\n",
      "Author:  Jorge Juan y Santacilia  Work:  https://datos.bne.es/resource/XX3280526  Title:  Relación histórica del viaje a la América Meridional  placeOfProduction:  New York  Year publication:  1964\n",
      "Author:  Jorge Juan y Santacilia  Work:  https://datos.bne.es/resource/XX3280526  Title:  Relación histórica del viaje a la América Meridional  placeOfProduction:  Las Rozas (Madrid)  Year publication:  D.L. 2002\n",
      "Author:  Jorge Juan y Santacilia  Work:  https://datos.bne.es/resource/XX2035522  Title:  Noticias secretas de América  placeOfProduction:  Las Rozas (Madrid)  Year publication:  [2002]\n",
      "Author:  Jorge Juan y Santacilia  Work:  https://datos.bne.es/resource/XX2035522  Title:  Noticias secretas de América  placeOfProduction:  Bogotá  Year publication:  1983\n",
      "Author:  Jorge Juan y Santacilia  Work:  https://datos.bne.es/resource/XX3280515  Title:  Compendio de navegacion para el uso de los caballeros guardias-marinas...  placeOfProduction:  Valladolid (España)  Year publication:  [2021]\n",
      "Author:  Jorge Juan y Santacilia  Work:  https://datos.bne.es/resource/XX3280515  Title:  Compendio de navegacion para el uso de los caballeros guardias-marinas...  placeOfProduction:  Valladolid (España)  Year publication:  ©2021\n",
      "Exception:\n",
      "'placeOfProduction'\n"
     ]
    }
   ],
   "source": [
    "try:\n",
    "    ret = sparql.queryAndConvert()\n",
    "\n",
    "    for r in ret[\"results\"][\"bindings\"]:\n",
    "        print('Author: ', r['author']['value'], ' Work: ', r['work']['value'], \n",
    "              ' Title: ', r['workLabel']['value'], ' placeOfProduction: ', r['placeOfProduction']['value'],\n",
    "              ' Year publication: ', r['yearOfPublication']['value'])\n",
    "except Exception as e:\n",
    "    print(\"Exception:\")\n",
    "    print(e)"
   ]
  },
  {
   "cell_type": "markdown",
   "id": "f202e591-2313-4e42-a5ad-7f22dea8caf5",
   "metadata": {},
   "source": [
    "### Let's create a dataframe"
   ]
  },
  {
   "cell_type": "code",
   "execution_count": 22,
   "id": "59871fb9-5402-4251-9f9a-04a22f81c86f",
   "metadata": {},
   "outputs": [
    {
     "ename": "SyntaxError",
     "evalue": "invalid syntax. Perhaps you forgot a comma? (2721301916.py, line 1)",
     "output_type": "error",
     "traceback": [
      "\u001b[0;36m  Cell \u001b[0;32mIn[22], line 1\u001b[0;36m\u001b[0m\n\u001b[0;31m    data = [{\"author\" : x[\"author\"][\"value\"], \"work\" : x[\"work\"][\"value\"],\u001b[0m\n\u001b[0m            ^\u001b[0m\n\u001b[0;31mSyntaxError\u001b[0m\u001b[0;31m:\u001b[0m invalid syntax. Perhaps you forgot a comma?\n"
     ]
    }
   ],
   "source": [
    "# check placeofproduction empty!!!\n",
    "data = [{\"author\" : x[\"author\"][\"value\"], \"work\" : x[\"work\"][\"value\"],\n",
    "        \"title\" : x[\"workLabel\"][\"value\"], \"placeOfProduction\" : x[\"placeOfProduction\"][\"value\"],\n",
    "        \"yearOfPublication\" : x[\"yearOfPublication\"][\"value\"], \n",
    "        \"langCode\" : x[\"langCode\"][\"value\"]} for x in ret[\"results\"][\"bindings\"]]"
   ]
  },
  {
   "cell_type": "code",
   "execution_count": 16,
   "id": "78d7784d-7d2a-4e34-bccb-c0286e450361",
   "metadata": {},
   "outputs": [
    {
     "ename": "NameError",
     "evalue": "name 'data' is not defined",
     "output_type": "error",
     "traceback": [
      "\u001b[0;31m---------------------------------------------------------------------------\u001b[0m",
      "\u001b[0;31mNameError\u001b[0m                                 Traceback (most recent call last)",
      "Cell \u001b[0;32mIn[16], line 3\u001b[0m\n\u001b[1;32m      1\u001b[0m \u001b[38;5;28;01mimport\u001b[39;00m \u001b[38;5;21;01mpandas\u001b[39;00m \u001b[38;5;28;01mas\u001b[39;00m \u001b[38;5;21;01mpd\u001b[39;00m\n\u001b[0;32m----> 3\u001b[0m df \u001b[38;5;241m=\u001b[39m pd\u001b[38;5;241m.\u001b[39mDataFrame(data)\n",
      "\u001b[0;31mNameError\u001b[0m: name 'data' is not defined"
     ]
    }
   ],
   "source": [
    "import pandas as pd\n",
    "\n",
    "df = pd.DataFrame(data)"
   ]
  },
  {
   "cell_type": "code",
   "execution_count": 17,
   "id": "335ce55e-abbe-4095-9a16-15d704cdc5a2",
   "metadata": {},
   "outputs": [
    {
     "ename": "NameError",
     "evalue": "name 'df' is not defined",
     "output_type": "error",
     "traceback": [
      "\u001b[0;31m---------------------------------------------------------------------------\u001b[0m",
      "\u001b[0;31mNameError\u001b[0m                                 Traceback (most recent call last)",
      "Cell \u001b[0;32mIn[17], line 1\u001b[0m\n\u001b[0;32m----> 1\u001b[0m df\u001b[38;5;241m.\u001b[39mhead(\u001b[38;5;241m10\u001b[39m)\n",
      "\u001b[0;31mNameError\u001b[0m: name 'df' is not defined"
     ]
    }
   ],
   "source": [
    "df.head(10)"
   ]
  },
  {
   "cell_type": "code",
   "execution_count": 67,
   "id": "07858ad8-60ad-4ed5-9da7-a9dbe839d8a8",
   "metadata": {},
   "outputs": [
    {
     "data": {
      "text/html": [
       "<div>\n",
       "<style scoped>\n",
       "    .dataframe tbody tr th:only-of-type {\n",
       "        vertical-align: middle;\n",
       "    }\n",
       "\n",
       "    .dataframe tbody tr th {\n",
       "        vertical-align: top;\n",
       "    }\n",
       "\n",
       "    .dataframe thead th {\n",
       "        text-align: right;\n",
       "    }\n",
       "</style>\n",
       "<table border=\"1\" class=\"dataframe\">\n",
       "  <thead>\n",
       "    <tr style=\"text-align: right;\">\n",
       "      <th></th>\n",
       "      <th>yearOfPublication</th>\n",
       "    </tr>\n",
       "  </thead>\n",
       "  <tbody>\n",
       "    <tr>\n",
       "      <th>count</th>\n",
       "      <td>38.000000</td>\n",
       "    </tr>\n",
       "    <tr>\n",
       "      <th>mean</th>\n",
       "      <td>1773.184211</td>\n",
       "    </tr>\n",
       "    <tr>\n",
       "      <th>std</th>\n",
       "      <td>33.344926</td>\n",
       "    </tr>\n",
       "    <tr>\n",
       "      <th>min</th>\n",
       "      <td>1748.000000</td>\n",
       "    </tr>\n",
       "    <tr>\n",
       "      <th>25%</th>\n",
       "      <td>1749.250000</td>\n",
       "    </tr>\n",
       "    <tr>\n",
       "      <th>50%</th>\n",
       "      <td>1764.000000</td>\n",
       "    </tr>\n",
       "    <tr>\n",
       "      <th>75%</th>\n",
       "      <td>1788.250000</td>\n",
       "    </tr>\n",
       "    <tr>\n",
       "      <th>max</th>\n",
       "      <td>1918.000000</td>\n",
       "    </tr>\n",
       "  </tbody>\n",
       "</table>\n",
       "</div>"
      ],
      "text/plain": [
       "       yearOfPublication\n",
       "count          38.000000\n",
       "mean         1773.184211\n",
       "std            33.344926\n",
       "min          1748.000000\n",
       "25%          1749.250000\n",
       "50%          1764.000000\n",
       "75%          1788.250000\n",
       "max          1918.000000"
      ]
     },
     "execution_count": 67,
     "metadata": {},
     "output_type": "execute_result"
    }
   ],
   "source": [
    "df.describe()"
   ]
  },
  {
   "cell_type": "code",
   "execution_count": 68,
   "id": "e39872f7-6d95-4445-8547-986ca2bfc4af",
   "metadata": {},
   "outputs": [
    {
     "data": {
      "text/plain": [
       "author               object\n",
       "work                 object\n",
       "title                object\n",
       "placeOfProduction    object\n",
       "yearOfPublication     int64\n",
       "langCode             object\n",
       "dtype: object"
      ]
     },
     "execution_count": 68,
     "metadata": {},
     "output_type": "execute_result"
    }
   ],
   "source": [
    "df.dtypes"
   ]
  },
  {
   "cell_type": "code",
   "execution_count": 77,
   "id": "087af980-245d-4fb4-b3f2-f4fb81cde384",
   "metadata": {},
   "outputs": [
    {
     "name": "stdout",
     "output_type": "stream",
     "text": [
      "                                                title  yearOfPublication\n",
      "3   Observaciones astronomicas y physicas ... en l...               1748\n",
      "13  Relacion historica del viage a la America Meri...               1748\n",
      "14  Relacion historica del viage a la America Meri...               1748\n",
      "15  Relacion historica del viage a la America Meri...               1748\n",
      "12  Relacion historica del viage a la America Meri...               1748\n",
      "19  Relacion historica del viage a la America Meri...               1748\n",
      "27  Observaciones astronomicas y phisicas hechas d...               1748\n",
      "18  Dissertacion historica, y geographica sobre el...               1749\n",
      "16  Dissertacion historica, y geographica sobre el...               1749\n",
      "26  Dissertacion historica, y geographica sobre el...               1749\n",
      "1   Elogio de D. Jorge Juan, Comendador de Aliaga ...               1750\n",
      "31  Voyage historique de l'amerique meridionale : ...               1752\n",
      "20  Voyage historique de l'Amerique Meridionale : ...               1752\n",
      "36  Voyage historique de l'amerique meridionale, t...               1752\n",
      "35  Voyage historique de l'amerique meridionale, f...               1752\n",
      "32  Voyage historique de l'amerique meridionale : ...               1752\n",
      "33  Compendio de navegación para el uso de los cau...               1757\n",
      "9   Compendio de navegación para el uso de los cav...               1757\n",
      "10  Compendio de navegacion para el uso de los cav...               1757\n",
      "34  Examen maritimo theórico práctico ó Tratado de...               1771\n",
      "29  Examen maritimo theorico-práctico ó Tratado de...               1771\n",
      "30  Examen maritimo theórico práctico ó Tratado de...               1771\n",
      "28  Examen maritimo theórico práctico ó Tratado de...               1771\n",
      "0   Examen maritimo theorico practico, o tratado d...               1771\n",
      "11  Observaciones astronomicas y phisicas hechas d...               1773\n",
      "25  Estado de la astronomia en Europa : y juicio d...               1773\n",
      "24  Estado de la Astronomia en Europa : y juicio d...               1774\n",
      "2   Estado de la astronomia en Europa [Texto impre...               1774\n",
      "22  Examen marítimo teórico práctico ó Tratado de ...               1793\n",
      "23  Examen marítimo teórico práctico ó Tratado de ...               1793\n",
      "21  Exámen Marítimo teórico-práctico, ó tratado de...               1793\n",
      "8   Reflexiones sobre la fábrica y uso del Cuarto-...               1809\n",
      "7   Parecer de don Jorge Juan sobre el relox o cro...               1809\n",
      "6   Carta de don Jorge Juan a don Sebastián Canter...               1809\n",
      "5   Reflexiones sobre el Método de levantar el map...               1809\n",
      "4   Método de levantar y dirigir el mapa o plano g...               1809\n",
      "17  Noticias secretas de América sobre el estado n...               1826\n",
      "37  Noticias secretas de América. Tomo I : (Siglo ...               1918\n"
     ]
    }
   ],
   "source": [
    "sorted_df = df.sort_values(by='yearOfPublication')\n",
    "print(sorted_df[[\"title\",\"yearOfPublication\"]].head(40))"
   ]
  },
  {
   "cell_type": "code",
   "execution_count": null,
   "id": "126481db-b24e-4fdb-bd73-165f635fbad4",
   "metadata": {},
   "outputs": [],
   "source": []
  }
 ],
 "metadata": {
  "kernelspec": {
   "display_name": "Python 3 (ipykernel)",
   "language": "python",
   "name": "python3"
  },
  "language_info": {
   "codemirror_mode": {
    "name": "ipython",
    "version": 3
   },
   "file_extension": ".py",
   "mimetype": "text/x-python",
   "name": "python",
   "nbconvert_exporter": "python",
   "pygments_lexer": "ipython3",
   "version": "3.11.11"
  }
 },
 "nbformat": 4,
 "nbformat_minor": 5
}
